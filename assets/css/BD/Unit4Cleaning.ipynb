{
 "cells": [
  {
   "cell_type": "code",
   "execution_count": 1,
   "id": "0fea9b7a-a035-4ff8-ad42-e1d2609ff1b7",
   "metadata": {},
   "outputs": [
    {
     "name": "stderr",
     "output_type": "stream",
     "text": [
      "C:\\Users\\matil\\AppData\\Local\\Temp\\ipykernel_37464\\1032048751.py:11: FutureWarning: DataFrame.applymap has been deprecated. Use DataFrame.map instead.\n",
      "  df = df.applymap(lambda x: x.strip() if isinstance(x, str) else x)\n"
     ]
    },
    {
     "name": "stdout",
     "output_type": "stream",
     "text": [
      "✅ Cleaned data saved to 'mn_clean.csv' and 'mn_clean.json'\n"
     ]
    }
   ],
   "source": [
    "import pandas as pd\n",
    "\n",
    "def clean_unicef_mn(input_path='mn.csv', output_csv='mn_clean.csv', output_json='mn_clean.json'):\n",
    "    df = pd.read_csv(input_path, header=0, dtype=str)\n",
    "\n",
    "    #drop empty rows\n",
    "    df.dropna(how='all', inplace=True)\n",
    "\n",
    "    #remove whitespace\n",
    "    df = df.applymap(lambda x: x.strip() if isinstance(x, str) else x)\n",
    "\n",
    "    #remove duplicates\n",
    "    df.drop_duplicates(inplace=True)\n",
    "\n",
    "    #convert numeric columns\n",
    "    for col in df.columns:\n",
    "        if col not in ['Country', 'Year']:\n",
    "            df[col] = pd.to_numeric(df[col], errors='coerce')\n",
    "\n",
    "    #handle missing numeric data\n",
    "    num_cols = df.select_dtypes(include=['float', 'int']).columns\n",
    "    df[num_cols] = df[num_cols].fillna(df[num_cols].median())\n",
    "    #index reset\n",
    "    df.reset_index(drop=True, inplace=True)\n",
    "\n",
    "    #save cleaned data\n",
    "    df.to_csv(output_csv, index=False)\n",
    "    df.to_json(output_json, orient='records', indent=2)\n",
    "\n",
    "    print(f\"Cleaned data saved to '{output_csv}' and '{output_json}'\")\n",
    "\n",
    "if __name__ == '__main__':\n",
    "    clean_unicef_mn()"
   ]
  },
  {
   "cell_type": "code",
   "execution_count": 2,
   "id": "92568ddc-6ce4-4220-a87c-1e85c6f4d214",
   "metadata": {},
   "outputs": [
    {
     "name": "stdout",
     "output_type": "stream",
     "text": [
      "        Unnamed: 0          HH1          HH2           LN         MWM1  \\\n",
      "count  9008.000000  9008.000000  9008.000000  9008.000000  9008.000000   \n",
      "mean   4504.500000   346.074267    13.161412     2.150977   346.074267   \n",
      "std    2600.529946   198.366238     6.918993     1.679250   198.366238   \n",
      "min       1.000000     1.000000     1.000000     1.000000     1.000000   \n",
      "25%    2252.750000   174.000000     7.000000     1.000000   174.000000   \n",
      "50%    4504.500000   342.000000    13.000000     1.000000   342.000000   \n",
      "75%    6756.250000   515.250000    19.000000     3.000000   515.250000   \n",
      "max    9008.000000   682.000000    25.000000    16.000000   682.000000   \n",
      "\n",
      "              MWM2         MWM4         MWM5        MWM6D        MWM6M  ...  \\\n",
      "count  9008.000000  9008.000000  9008.000000  9008.000000  9008.000000  ...   \n",
      "mean     13.161412     2.150977   488.643206    14.587145     3.199156  ...   \n",
      "std       6.918993     1.679250   296.319073     9.200779     0.601127  ...   \n",
      "min       1.000000     1.000000     1.000000     1.000000     2.000000  ...   \n",
      "25%       7.000000     1.000000   215.000000     6.000000     3.000000  ...   \n",
      "50%      13.000000     1.000000   420.000000    13.000000     3.000000  ...   \n",
      "75%      19.000000     3.000000   720.000000    24.000000     4.000000  ...   \n",
      "max      25.000000    16.000000   975.000000    31.000000     5.000000  ...   \n",
      "\n",
      "            MCSURV       MCDEAD  mwelevel     mnweight       wscore  \\\n",
      "count  9008.000000  9008.000000       0.0  9008.000000  9008.000000   \n",
      "mean      1.549512     0.130329       NaN     0.878552     0.024231   \n",
      "std       1.944321     0.501247       NaN     0.467480     0.901015   \n",
      "min       0.000000     0.000000       NaN     0.000000    -1.349216   \n",
      "25%       0.000000     0.000000       NaN     0.614051    -0.745765   \n",
      "50%       1.000000     0.000000       NaN     0.971223    -0.082817   \n",
      "75%       2.000000     0.000000       NaN     1.151189     0.913808   \n",
      "max      20.000000    15.000000       NaN     3.836794     2.502264   \n",
      "\n",
      "           windex5      wscoreu     windex5u      wscorer     windex5r  \n",
      "count  9008.000000  9008.000000  9008.000000  9008.000000  9008.000000  \n",
      "mean      2.841807     0.017969     2.034858     0.029918     2.772202  \n",
      "std       1.670464     0.551727     1.156897     0.779300     1.510062  \n",
      "min       0.000000    -2.266862     0.000000    -1.408886     0.000000  \n",
      "25%       1.000000     0.000000     2.000000    -0.308607     2.000000  \n",
      "50%       3.000000     0.000000     2.000000     0.000000     3.000000  \n",
      "75%       4.000000     0.000000     2.000000     0.029766     4.000000  \n",
      "max       5.000000     4.003243     5.000000     5.369397     5.000000  \n",
      "\n",
      "[8 rows x 159 columns]\n",
      "Unnamed: 0    0\n",
      "HH1           0\n",
      "HH2           0\n",
      "LN            0\n",
      "MWM1          0\n",
      "             ..\n",
      "windex5       0\n",
      "wscoreu       0\n",
      "windex5u      0\n",
      "wscorer       0\n",
      "windex5r      0\n",
      "Length: 159, dtype: int64\n",
      "   Unnamed: 0  HH1  HH2  LN  MWM1  MWM2  MWM4  MWM5  MWM6D  MWM6M  ...  \\\n",
      "0           1    1   17   1     1    17     1    14      7      4  ...   \n",
      "1           2    1   20   1     1    20     1    14      7      4  ...   \n",
      "2           3    2    1   1     2     1     1     9      8      4  ...   \n",
      "3           4    2    1   5     2     1     5     9     12      4  ...   \n",
      "4           5    2    1   8     2     1     8     9      8      4  ...   \n",
      "\n",
      "   MCSURV  MCDEAD  mwelevel  mnweight    wscore  windex5   wscoreu  windex5u  \\\n",
      "0     0.0     0.0       NaN  0.403797  1.603670        5  1.272552       5.0   \n",
      "1     0.0     0.0       NaN  0.403797  1.543277        5  1.089026       5.0   \n",
      "2     3.0     0.0       NaN  1.031926  0.878635        4 -0.930721       1.0   \n",
      "3     1.0     0.0       NaN  0.000000  0.000000        0  0.000000       0.0   \n",
      "4     0.0     0.0       NaN  1.031926  0.878635        4 -0.930721       1.0   \n",
      "\n",
      "   wscorer  windex5r  \n",
      "0      0.0       3.0  \n",
      "1      0.0       3.0  \n",
      "2      0.0       3.0  \n",
      "3      0.0       0.0  \n",
      "4      0.0       3.0  \n",
      "\n",
      "[5 rows x 159 columns]\n"
     ]
    }
   ],
   "source": [
    "df = pd.read_csv(\"mn_clean.csv\")\n",
    "\n",
    "#print summary statistics\n",
    "print(df.describe())\n",
    "\n",
    "#check remaining missing values\n",
    "print(df.isnull().sum())\n",
    "\n",
    "#view structure\n",
    "print(df.head())"
   ]
  },
  {
   "cell_type": "code",
   "execution_count": null,
   "id": "f4786d21-6df8-4d65-873d-36d8fd07f996",
   "metadata": {},
   "outputs": [],
   "source": []
  }
 ],
 "metadata": {
  "kernelspec": {
   "display_name": "Python 3 (ipykernel)",
   "language": "python",
   "name": "python3"
  },
  "language_info": {
   "codemirror_mode": {
    "name": "ipython",
    "version": 3
   },
   "file_extension": ".py",
   "mimetype": "text/x-python",
   "name": "python",
   "nbconvert_exporter": "python",
   "pygments_lexer": "ipython3",
   "version": "3.11.2"
  }
 },
 "nbformat": 4,
 "nbformat_minor": 5
}
