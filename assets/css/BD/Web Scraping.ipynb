{
 "cells": [
  {
   "cell_type": "markdown",
   "id": "c0c3b647-55e9-434a-83d4-12965f3927c6",
   "metadata": {},
   "source": [
    "## Web Scraping\n",
    "#### Instructions\n",
    "Write a web scraping script in Python using the key word 'Data Scientist' and parse this data into either an XML or JSON file. Perform the web scraping with the beautifulsoup4 and Request program modules.\n",
    "\n",
    "Share your findings in the Module Wiki. You should also comment on your peers’ wiki posts. Review the Department page for more information on peer review/feedback.\n",
    "\n",
    "\n"
   ]
  },
  {
   "cell_type": "code",
   "execution_count": 111,
   "id": "d83b3673-452f-4e99-a2ef-61b2736e1918",
   "metadata": {},
   "outputs": [],
   "source": [
    "from bs4 import BeautifulSoup\n",
    "import pandas as pd\n",
    "import requests"
   ]
  },
  {
   "cell_type": "code",
   "execution_count": 113,
   "id": "04c6ae02-c560-4c42-8c40-945fe098144e",
   "metadata": {},
   "outputs": [],
   "source": [
    "url = 'https://365datascience.com/career-advice/data-science-salaries-around-the-world/'"
   ]
  },
  {
   "cell_type": "code",
   "execution_count": 115,
   "id": "34ba5e88-5910-4b0f-a296-948fed55ce70",
   "metadata": {},
   "outputs": [],
   "source": [
    "page = requests.get(url)\n",
    "soup = BeautifulSoup(page.text, 'html')\n",
    "tds = soup.find_all('td')"
   ]
  },
  {
   "cell_type": "code",
   "execution_count": 116,
   "id": "2c657cc6-faf3-4d81-8c19-75a3de6dfaac",
   "metadata": {},
   "outputs": [],
   "source": [
    "data = []\n",
    "row = []\n",
    "\n",
    "for td in tds:\n",
    "    text = td.get_text(strip=True)\n",
    "    if not text:\n",
    "        continue\n",
    "    row.append(text)\n",
    "\n",
    "    if len(row) in [2]:\n",
    "        data.append(row)\n",
    "        row = []\n"
   ]
  },
  {
   "cell_type": "code",
   "execution_count": 119,
   "id": "6b0a856a-17d5-435e-95d3-a56d01a2dcc1",
   "metadata": {},
   "outputs": [
    {
     "data": {
      "text/html": [
       "<div>\n",
       "<style scoped>\n",
       "    .dataframe tbody tr th:only-of-type {\n",
       "        vertical-align: middle;\n",
       "    }\n",
       "\n",
       "    .dataframe tbody tr th {\n",
       "        vertical-align: top;\n",
       "    }\n",
       "\n",
       "    .dataframe thead th {\n",
       "        text-align: right;\n",
       "    }\n",
       "</style>\n",
       "<table border=\"1\" class=\"dataframe\">\n",
       "  <thead>\n",
       "    <tr style=\"text-align: right;\">\n",
       "      <th></th>\n",
       "      <th>Country/City</th>\n",
       "      <th>Average Total Salary with Additional Pay (USD)</th>\n",
       "    </tr>\n",
       "  </thead>\n",
       "  <tbody>\n",
       "    <tr>\n",
       "      <th>0</th>\n",
       "      <td>US</td>\n",
       "      <td>$156,790</td>\n",
       "    </tr>\n",
       "    <tr>\n",
       "      <th>1</th>\n",
       "      <td>Germany</td>\n",
       "      <td>$85,115</td>\n",
       "    </tr>\n",
       "    <tr>\n",
       "      <th>2</th>\n",
       "      <td>UK</td>\n",
       "      <td>$79,978</td>\n",
       "    </tr>\n",
       "    <tr>\n",
       "      <th>3</th>\n",
       "      <td>Canada</td>\n",
       "      <td>$73,607</td>\n",
       "    </tr>\n",
       "    <tr>\n",
       "      <th>4</th>\n",
       "      <td>India</td>\n",
       "      <td>$16,759</td>\n",
       "    </tr>\n",
       "  </tbody>\n",
       "</table>\n",
       "</div>"
      ],
      "text/plain": [
       "  Country/City Average Total Salary with Additional Pay (USD)\n",
       "0           US                                       $156,790\n",
       "1      Germany                                        $85,115\n",
       "2           UK                                        $79,978\n",
       "3       Canada                                        $73,607\n",
       "4        India                                        $16,759"
      ]
     },
     "execution_count": 119,
     "metadata": {},
     "output_type": "execute_result"
    }
   ],
   "source": [
    "limited_rows = data[:6]\n",
    "df = pd.DataFrame(limited_rows[1:], columns=data[0])\n",
    "df.head(10)"
   ]
  },
  {
   "cell_type": "code",
   "execution_count": 121,
   "id": "fe2341ff-ddc1-4396-992d-73036f3cba7c",
   "metadata": {},
   "outputs": [],
   "source": [
    "df.to_json(\"country_salary.json\", orient=\"records\", indent=2)"
   ]
  },
  {
   "cell_type": "code",
   "execution_count": null,
   "id": "4ddf0ae9-9b12-461b-a15b-a64793f9e70a",
   "metadata": {},
   "outputs": [],
   "source": []
  }
 ],
 "metadata": {
  "kernelspec": {
   "display_name": "Python 3 (ipykernel)",
   "language": "python",
   "name": "python3"
  },
  "language_info": {
   "codemirror_mode": {
    "name": "ipython",
    "version": 3
   },
   "file_extension": ".py",
   "mimetype": "text/x-python",
   "name": "python",
   "nbconvert_exporter": "python",
   "pygments_lexer": "ipython3",
   "version": "3.12.3"
  }
 },
 "nbformat": 4,
 "nbformat_minor": 5
}
