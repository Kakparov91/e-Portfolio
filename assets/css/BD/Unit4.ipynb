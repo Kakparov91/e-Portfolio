{
 "cells": [
  {
   "cell_type": "code",
   "execution_count": 1,
   "id": "5d2212db-be32-4e2e-8d15-5ac098a04be2",
   "metadata": {},
   "outputs": [
    {
     "name": "stderr",
     "output_type": "stream",
     "text": [
      "C:\\Users\\matil\\AppData\\Local\\Temp\\ipykernel_28664\\1032048751.py:11: FutureWarning: DataFrame.applymap has been deprecated. Use DataFrame.map instead.\n",
      "  df = df.applymap(lambda x: x.strip() if isinstance(x, str) else x)\n"
     ]
    },
    {
     "name": "stdout",
     "output_type": "stream",
     "text": [
      "✅ Cleaned data saved to 'mn_clean.csv' and 'mn_clean.json'\n"
     ]
    }
   ],
   "source": [
    "import pandas as pd\n",
    "\n",
    "def clean_unicef_mn(input_path='mn.csv', output_csv='mn_clean.csv', output_json='mn_clean.json'):\n",
    "    # Load data\n",
    "    df = pd.read_csv(input_path, header=0, dtype=str)\n",
    "\n",
    "    # Drop fully empty rows\n",
    "    df.dropna(how='all', inplace=True)\n",
    "\n",
    "    # Trim whitespace in all string fields\n",
    "    df = df.applymap(lambda x: x.strip() if isinstance(x, str) else x)\n",
    "\n",
    "    # Drop duplicate rows\n",
    "    df.drop_duplicates(inplace=True)\n",
    "\n",
    "    # Convert numeric columns (all except country/year) to numeric\n",
    "    for col in df.columns:\n",
    "        if col not in ['Country', 'Year']:\n",
    "            df[col] = pd.to_numeric(df[col], errors='coerce')\n",
    "\n",
    "    # Handle missing numeric data: fill with median\n",
    "    num_cols = df.select_dtypes(include=['float', 'int']).columns\n",
    "    df[num_cols] = df[num_cols].fillna(df[num_cols].median())\n",
    "\n",
    "    # Final index reset\n",
    "    df.reset_index(drop=True, inplace=True)\n",
    "\n",
    "    # Save cleaned data\n",
    "    df.to_csv(output_csv, index=False)\n",
    "    df.to_json(output_json, orient='records', indent=2)\n",
    "\n",
    "    print(f\"✅ Cleaned data saved to '{output_csv}' and '{output_json}'\")\n",
    "\n",
    "if __name__ == '__main__':\n",
    "    clean_unicef_mn()"
   ]
  },
  {
   "cell_type": "code",
   "execution_count": null,
   "id": "23a83245-cc81-431d-9ca9-927d41e798f8",
   "metadata": {},
   "outputs": [],
   "source": []
  }
 ],
 "metadata": {
  "kernelspec": {
   "display_name": "Python 3 (ipykernel)",
   "language": "python",
   "name": "python3"
  },
  "language_info": {
   "codemirror_mode": {
    "name": "ipython",
    "version": 3
   },
   "file_extension": ".py",
   "mimetype": "text/x-python",
   "name": "python",
   "nbconvert_exporter": "python",
   "pygments_lexer": "ipython3",
   "version": "3.11.2"
  }
 },
 "nbformat": 4,
 "nbformat_minor": 5
}
